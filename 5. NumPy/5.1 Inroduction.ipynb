{
 "cells": [
  {
   "cell_type": "markdown",
   "metadata": {},
   "source": [
    "#### Intro\n",
    "\n",
    "NumPy stands for numerical Python. It's the backbone of all kinds of scientific and numerical computing in Python.\n",
    "And since machine learning is all about turning data into numbers and then figuring out the patterns, NumPy often comes into play.\n",
    "\n",
    "- Machine learning start with data.\n",
    "- Example: data frame\n",
    "- Numpy turn data into a series of numbers\n",
    "- A machine learning algorithm work out the patterns in those numbers"
   ]
  },
  {
   "cell_type": "markdown",
   "metadata": {},
   "source": [
    "#### Why NumPy?\n",
    "- Performance advantage as it is written in C under the hood\n",
    "- Convert data into 1 or 0 so machine can understand"
   ]
  },
  {
   "cell_type": "markdown",
   "metadata": {},
   "source": [
    "#### Difference between Numpy and Pandas\n",
    "\n",
    "Numpy | Pandas\n",
    "------ | ------\n",
    "works with numerical data   | works with tabular data\n",
    "Arrays whose objects can go upto n dimensions. | data structure in Pandas are Series, Dataframes and Panel whose objects can go upto three.\n",
    "Less Memomy consuming | High memory consuming\n",
    "Perfoms better with huge number of rows(500K) | Performs better with less number of rows.(50K)\n",
    "Less Used | Widely Used"
   ]
  },
  {
   "cell_type": "markdown",
   "metadata": {},
   "source": [
    "#### Vectorization Vs Broadcasting\n",
    "\n",
    "- Vectorization makes operations between two collections of the same size and shape as intuitive as operations between two single numbers. \n",
    "- Broadcasting is the act of extending an array (With some set of rules) to a shape that will allow it to successfully take part in a vectorized calculation"
   ]
  }
 ],
 "metadata": {
  "language_info": {
   "name": "python"
  },
  "orig_nbformat": 4
 },
 "nbformat": 4,
 "nbformat_minor": 2
}
