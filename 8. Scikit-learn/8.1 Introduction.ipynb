{
 "cells": [
  {
   "cell_type": "markdown",
   "metadata": {},
   "source": [
    "### What is Scikit-Learn (sklearn)?\n",
    "- Scikit-Learn is a python machine learning library\n",
    "- Data -> Scikit-Learn -> machine learning model\n",
    "- machine learning model learn patterns in the data\n",
    "- machine learning model make prediction\n",
    "  \n",
    "### Why Scikit-Learn?\n",
    "- Built on NumPy and Matplotlib (and Python)\n",
    "- Has many in-built machine learning models\n",
    "- Methods to evaluate your machine learning models\n",
    "- Very well-designed API\n",
    "  \n",
    "### What are we going to cover? An end-to-end Scikit-Learn workflow\n",
    "- Get data ready (to be used with machine learning models)\n",
    "- Pick a machine learning model (to suit your problem)\n",
    "- Fit a model to the data (learning patterns)\n",
    "- Make predictions with a model (using patterns)\n",
    "- Evaluate the model\n",
    "- Improving model predictions through experimentation\n",
    "- Saving and loading models"
   ]
  },
  {
   "cell_type": "markdown",
   "metadata": {},
   "source": [
    "# Sckit Learn Workflow"
   ]
  },
  {
   "cell_type": "markdown",
   "metadata": {},
   "source": [
    "<img src='../images/sklearn workflow.png'/>"
   ]
  }
 ],
 "metadata": {
  "kernelspec": {
   "display_name": "Python 3.10.0 64-bit",
   "language": "python",
   "name": "python3"
  },
  "language_info": {
   "name": "python",
   "version": "3.10.0"
  },
  "orig_nbformat": 4,
  "vscode": {
   "interpreter": {
    "hash": "2469a70536e4d2335a2ea8907942d0699c37342a371ac185bdb5b0aa6f073890"
   }
  }
 },
 "nbformat": 4,
 "nbformat_minor": 2
}
