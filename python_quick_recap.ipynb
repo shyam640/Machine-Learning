{
 "cells": [
  {
   "cell_type": "code",
   "execution_count": 34,
   "metadata": {},
   "outputs": [
    {
     "name": "stdout",
     "output_type": "stream",
     "text": [
      "<class 'str'> <class 'int'>\n"
     ]
    }
   ],
   "source": [
    "# Input in python\n",
    "a = input('Enter anything')\n",
    "b = eval(input('Enter anything'))\n",
    "print(type(a),type(b))"
   ]
  },
  {
   "cell_type": "markdown",
   "metadata": {},
   "source": [
    "# Basic Data Types in Python\n",
    "- Integer\n",
    "- Floating Point\n",
    "- Complex\n",
    "- Boolean\n",
    "- String"
   ]
  },
  {
   "cell_type": "code",
   "execution_count": 14,
   "metadata": {},
   "outputs": [
    {
     "name": "stdout",
     "output_type": "stream",
     "text": [
      "3\n",
      "2.3\n",
      "(1+3j)\n",
      "True\n",
      "Hello Python !!\n"
     ]
    }
   ],
   "source": [
    "# Integer\n",
    "a = 3\n",
    "print(a)\n",
    "\n",
    "# Floating Point\n",
    "b = 2.3\n",
    "print(b)\n",
    "\n",
    "# Complex Number ( iota )\n",
    "c = 1 + 3j\n",
    "print(c)\n",
    "\n",
    "# Boolean [ True , False ]\n",
    "d = True\n",
    "print(d)\n",
    "\n",
    "# String\n",
    "e = \"Hello Python !!\"\n",
    "print(e)"
   ]
  },
  {
   "cell_type": "code",
   "execution_count": 15,
   "metadata": {},
   "outputs": [
    {
     "name": "stdout",
     "output_type": "stream",
     "text": [
      "<class 'int'> <class 'float'> <class 'complex'> <class 'bool'> <class 'str'>\n"
     ]
    }
   ],
   "source": [
    "print(type(a),type(b),type(c),type(d),type(e))"
   ]
  },
  {
   "cell_type": "markdown",
   "metadata": {},
   "source": [
    "## Conversion of one data type to another"
   ]
  },
  {
   "cell_type": "code",
   "execution_count": 13,
   "metadata": {},
   "outputs": [
    {
     "name": "stdout",
     "output_type": "stream",
     "text": [
      "10\n",
      "<class 'int'>\n",
      "10.0\n",
      "<class 'float'>\n",
      "3.4\n",
      "<class 'float'>\n",
      "3\n",
      "<class 'int'>\n"
     ]
    }
   ],
   "source": [
    "# Integer to Float\n",
    "x = 10\n",
    "print(x)\n",
    "print(type(x))\n",
    "\n",
    "y = float(x)\n",
    "print(y)\n",
    "print(type(y))\n",
    "\n",
    "\n",
    "# Float to Integer\n",
    "p = 3.4\n",
    "print(p)\n",
    "print(type(p))\n",
    "\n",
    "q = int(p)\n",
    "print(q)\n",
    "print(type(q))"
   ]
  },
  {
   "cell_type": "markdown",
   "metadata": {},
   "source": [
    "### Types of Objects in Python\n",
    "- Immutable Objects [int,float,string,bool,tuple]\n",
    "- Mutalble Objects [List,Set,Dictionary]"
   ]
  },
  {
   "cell_type": "markdown",
   "metadata": {},
   "source": [
    "# LIST"
   ]
  },
  {
   "cell_type": "code",
   "execution_count": 24,
   "metadata": {},
   "outputs": [
    {
     "name": "stdout",
     "output_type": "stream",
     "text": [
      "[1, 'English', True, 4.3]\n",
      "[1, 'English', True, 4.3, 6]\n",
      "1 English\n",
      "[1, 'English', True, 6]\n"
     ]
    }
   ],
   "source": [
    "# Declaring a list\n",
    "l1 = [1,'English',True,4.3]\n",
    "print(l1)\n",
    "type(l1)\n",
    "\n",
    "# Appending to a list\n",
    "l1.append(6)\n",
    "print(l1)\n",
    "print(l1[0],l1[1])\n",
    "\n",
    "# Deleting from list\n",
    "del l1[3]\n",
    "print(l1)"
   ]
  },
  {
   "cell_type": "markdown",
   "metadata": {},
   "source": [
    "# TUPLE"
   ]
  },
  {
   "cell_type": "code",
   "execution_count": 27,
   "metadata": {},
   "outputs": [
    {
     "name": "stdout",
     "output_type": "stream",
     "text": [
      "[2, 'text', 4.2, False]\n",
      "<class 'list'>\n",
      "(1, 'English', True, 6)\n",
      "<class 'tuple'>\n",
      "2 False\n"
     ]
    }
   ],
   "source": [
    "# Declaring a tuple\n",
    "t1 = [2,\"text\",4.2,False]\n",
    "print(t1)\n",
    "print(type(t1))\n",
    "\n",
    "# Converting list to tuple\n",
    "t2 = tuple(l1)\n",
    "print(t2)\n",
    "print(type(t2))\n",
    "\n",
    "# tuple doesn't allow duplicate values\n",
    "\n",
    "# Accessing tuple Values\n",
    "print(t1[0],t1[3])\n",
    "\n",
    "# tuple.append(5) -> Gives error as tuple are immutable"
   ]
  },
  {
   "cell_type": "markdown",
   "metadata": {},
   "source": [
    "# SET"
   ]
  },
  {
   "cell_type": "code",
   "execution_count": 29,
   "metadata": {},
   "outputs": [
    {
     "name": "stdout",
     "output_type": "stream",
     "text": [
      "[1, 2, 3, 4, 5]\n",
      "<class 'list'>\n",
      "[1, 'English', True, 6]\n",
      "<class 'list'>\n"
     ]
    }
   ],
   "source": [
    "# Declaring a set\n",
    "s1 = [1,2,3,4,5]\n",
    "print(s1)\n",
    "print(type(s1))\n",
    "\n",
    "# print(s1[0]) -> Gives error as it cannot be accessed like this\n",
    "\n",
    "# Converting list to set\n",
    "s2 = list(l1)\n",
    "print(s2)\n",
    "print(type(s2))\n",
    "\n",
    "# Duplicate values now allowed in set"
   ]
  },
  {
   "cell_type": "markdown",
   "metadata": {},
   "source": [
    "# DICTIONARY"
   ]
  },
  {
   "cell_type": "code",
   "execution_count": 31,
   "metadata": {},
   "outputs": [
    {
     "name": "stdout",
     "output_type": "stream",
     "text": [
      "{'name': 'shyam', 'age': 30, 'country': 'India'}\n",
      "<class 'dict'>\n",
      "shyam\n"
     ]
    }
   ],
   "source": [
    "# Declaring a dictionary\n",
    "d1 = {'name':'shyam','age':30,'country':'India'}\n",
    "print(d1)\n",
    "print(type(d1))\n",
    "\n",
    "# Accessing dictionary values with keys\n",
    "print(d1['name'])\n",
    "\n",
    "# Duplicate Values now allowed in dictionary"
   ]
  },
  {
   "cell_type": "markdown",
   "metadata": {},
   "source": [
    "### Operators in Python\n",
    "- Arithmetic Operators [+ , - , * , / , ** , %]\n",
    "- Assignment Operators [= , += , -= , *= , /=]\n",
    "- Comparison Operators [== , != , > , < , >= , <=]\n",
    "- Logical Operators    [and , or , not]\n",
    "- Identity Operators   [is , is not]\n",
    "- Membership Operators [in , not in]"
   ]
  },
  {
   "cell_type": "code",
   "execution_count": 33,
   "metadata": {},
   "outputs": [
    {
     "name": "stdout",
     "output_type": "stream",
     "text": [
      "True False\n",
      "True\n",
      "False\n"
     ]
    }
   ],
   "source": [
    "# Identity operators\n",
    "a = 5\n",
    "b = 5\n",
    "print(a is b , a is not b)\n",
    "\n",
    "# Membership Operators\n",
    "a1 = [2,3,4,5,10]\n",
    "print(a in a1)\n",
    "print(b not in a1)\n"
   ]
  },
  {
   "cell_type": "markdown",
   "metadata": {},
   "source": [
    "- ### if elif else statements\n",
    "- ### nested if statement\n",
    "- ### Loops in Python\n",
    "     - for loop [ for i in range(n) , for i in array ]\n",
    "     - while loop\n",
    "  \n",
    "- ### Functions"
   ]
  }
 ],
 "metadata": {
  "kernelspec": {
   "display_name": "Python 3",
   "language": "python",
   "name": "python3"
  },
  "language_info": {
   "codemirror_mode": {
    "name": "ipython",
    "version": 3
   },
   "file_extension": ".py",
   "mimetype": "text/x-python",
   "name": "python",
   "nbconvert_exporter": "python",
   "pygments_lexer": "ipython3",
   "version": "3.10.0"
  },
  "orig_nbformat": 4,
  "vscode": {
   "interpreter": {
    "hash": "2469a70536e4d2335a2ea8907942d0699c37342a371ac185bdb5b0aa6f073890"
   }
  }
 },
 "nbformat": 4,
 "nbformat_minor": 2
}
