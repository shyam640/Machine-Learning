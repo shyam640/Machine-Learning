{
 "cells": [
  {
   "cell_type": "markdown",
   "metadata": {},
   "source": [
    "# 6 Steps for any Machine Learning Project"
   ]
  },
  {
   "cell_type": "markdown",
   "metadata": {},
   "source": [
    "##### Questions to Ask\n",
    "\n",
    "- **Problem definition —** What business problem are we trying to solve? How can it be phrased as a machine learning problem?\n",
    "- **Data —** If machine learning is getting insights out of data, what data we have? How does it match the problem definition? Is our data structured or unstructured? Static or streaming?\n",
    "- **Evaluation —** What defines success? Is a 95% accurate machine learning model good enough?\n",
    "- **Features —** What parts of our data are we going to use for our model? How can what we already know influence this?\n",
    "- **Modelling —** Which model should you choose? How can you improve it? How do you compare it with other models?\n",
    "- **Experimentation —** What else could we try? Does our deployed model do as we expected? How do the other steps change based on what we’ve found?"
   ]
  },
  {
   "cell_type": "markdown",
   "metadata": {},
   "source": [
    "##### **Problem Definition**\n",
    "Think, what problem we're trying to solve?<br> \n",
    "Is it a supervised or unsupervised learning problem or Is it a classification or regression problem.<br>\n",
    "Problem where you should use Machine Learning?<br>\n",
    "Identify if the problem is based on supervised learning, unsupervised learning, transfer learning and reinforcement learning(this is rare).\n",
    "\n",
    "\n",
    "##### **Data**\n",
    "Ask yourself, what kind of data do we have?<br>\n",
    "Since machine learning involves using algorithms to find and learn different patterns in data. Data is a requirement for any machine learning project.<br>\n",
    "Data comes in mainly two types : structured and unstructured. Structured data is something you'd expect to see in an CSV or Excel file whereas Unstructured data are things like images natural language text such as transcribed phone calls, videos.<br>\n",
    "Within these two data types there's static and streaming. Static data is data which doesn't change over time. You may have a spreadsheet of patient records in a dot CSP format which stands for commas Separated Values which simply means all of the different data is in one file separated by commas. Streaming data is data which is constantly changed over time. For example say you wanted to predict how a stock price will change.\n",
    "\n",
    "\n",
    "##### **Evaluation**\n",
    "Ask yourself, what success means to us?<br>\n",
    "Since machine learning actually is experimental, you could keep going forever, trying to improve your results in search of the perfect model.<br>\n",
    "\n",
    "Other things you should take into consideration for classification problems.\n",
    "- **False negatives —** Model predicts negative, actually positive. In some cases, like email spam prediction, false negatives aren’t too much to worry about. But if a self-driving cars computer vision system predicts no pedestrian when there was one, this is not good.\n",
    "- **False positives —** Model predicts positive, actually negative. Predicting someone has heart disease when they don’t, might seem okay. Better to be safe right? Not if it negatively affects the person’s lifestyle or sets them on a treatment plan they don’t need.\n",
    "- **True negatives —** Model predicts negative, actually negative. This is good.\n",
    "- **True positives —** Model predicts positive, actually positive. This is good.\n",
    "- **Precision —** What proportion of positive predictions were actually correct? A model that produces no false positives has a precision of 1.0.\n",
    "- **Recall —** What proportion of actual positives were predicted correctly? A model that produces no false negatives has a recall of 1.0.\n",
    "- **F1 score —** A combination of precision and recall. The closer to 1.0, the better.\n",
    "- **Receiver operating characteristic (ROC) curve & Area under the curve (AUC) —** The ROC curve is a plot comparing true positive and false positive rate. The AUC metric is the area under the ROC curve. A model whose predictions are 100% wrong has an AUC of 0.0, one whose predictions are 100% right has an AUC of 1.0.\n",
    "\n",
    "Other things you should take into consideration for Regression problems.\n",
    "- **Mean absolute error (MAE) —** The average difference between your model's predictions and the actual numbers.\n",
    "- **Root mean square error (RMSE) —** The square root of the average of squared differences between your model's predictions and the actual numbers.\n",
    "\n",
    "\n",
    "##### **Features**\n",
    "Think, what do we already know about the data?<br>\n",
    "Within different types of data there are different kinds of features. For Example, to know if someone has heart disease, the features you can use is their body weight, blood pressure or chest pain etc as features.\n",
    "\n",
    "##### **Modelling**\n",
    "Based on our problem and data, what machine learning model should we use?<br>\n",
    "You need to choose the correct model for the correct algorithm. There are plenty pre-made ML model.<br>\n",
    "Modelling is derived into three parts : Choosing and training a model, Tuning a model and Model Comparision.<br>\n",
    "\n",
    "##### **Experiments**\n",
    "Which Model fits best for our problem?<br>\n",
    "You might have to create thousand of models. Some may have insufficient data or some may fail at evaluation. The last model satifying all the condition is considered as out ML model but even that might not be the perfect model."
   ]
  },
  {
   "cell_type": "markdown",
   "metadata": {},
   "source": [
    "### **Workflow of a model**\n",
    "A common data science workflow begins by opening a csv file in a Jupiter notebook, a tool for building machine learning projects then exploring the data and performing data analysis using pandas, a python library for data analysis and making visualizations such as graphs and comparing different data points using matplotlib then building machine learning models on the data using sckit learn such as a machine learning model to make prediction using these patterns here."
   ]
  },
  {
   "cell_type": "markdown",
   "metadata": {},
   "source": [
    "# Different types of Metrics\n",
    "<img src='./images/Different Types of Metrics.png'/>"
   ]
  },
  {
   "cell_type": "markdown",
   "metadata": {},
   "source": [
    "# Short Recap\n",
    "##### **Framework**\n",
    "- Problem Definition (“What problem are we trying to solve?”)\n",
    "- Data (“What kinds of data do we have?”)\n",
    "- Evaluation (“What defines success for us?”)\n",
    "- Feature (“What do we already know about the data?”)\n",
    "- Modelling (“Based on our problem and data, what model should we use?”)\n",
    "- Experimentation (“How could we improve/what can we try next?”)\n",
    "\n",
    "\n",
    "##### **Problem Definition**\n",
    "When shouldn’t we use machine learning? Can we hand-code the instructions?<br>\n",
    "Main types of machine learning:\n",
    "- Supervised learning\n",
    "- Unsupervised learning\n",
    "- Transfer learning\n",
    "- Reinforcement learning\n",
    "\n",
    "\n",
    "Supervised learning has two main categories: classification and regression. In both cases you know the inputs and outputs (Example: inputs = patients records, outputs = which patients have a disease).\n",
    "\n",
    "Unsupervised learning is about clustering. It has no labels. You try to find patterns in the data and derive labels from the existing data.\n",
    "\n",
    "Transfer learning is about transferring one machine learning model to a different domain.\n",
    "\n",
    "Reinforcement learning is about repeating a task in a problem space, and rewarding or punishing a certain outcome. Classic example: teaching a computer how to play chess.\n",
    "\n",
    "##### **Data**\n",
    "Structured data vs. unstructured data.\n",
    "\n",
    "- Structured: tables (rows, columns) - CSV\n",
    "- Unstructured: images, audio files\n",
    "- Static data: values don’t change over time (e.g., patient data)\n",
    "- Streaming data: data updates constantly (e.g., news headlines)\n",
    "\n",
    "\n",
    "##### **Evaluation**\n",
    "What metrics? accuracy, precision.\n",
    "\n",
    "##### **Features**\n",
    "Use Feature variables (input data variables) to predict a target variable.<br>\n",
    "Feature variables can be numerical or categorical.<br>\n",
    "Ideal: 100% feature coverage (“complete” sample data).\n",
    "\n",
    "##### **Modelling**\n",
    "3 Steps\n",
    "- Choosing and training a model\n",
    "- Tuning a model\n",
    "- Model comparison\n",
    "Split your input into three different data sets: training, validation and test.<br>\n",
    "Some models work better than others on different problems.<br>\n",
    "Try to minimize feedback time in your experimentation/training. Start with small datasets, build up.<br>\n",
    "Model comparison = “How will the model perform in the real world?“<br>\n",
    "This step tests your model on data that it hasn’t seen yet. The model should be able to generalize.<br>\n",
    "Keep the test set separate at all costs.\n",
    "\n",
    "##### **Experimentation**\n",
    "The framework is an iterative process."
   ]
  }
 ],
 "metadata": {
  "kernelspec": {
   "display_name": "Python 3.10.0 64-bit",
   "language": "python",
   "name": "python3"
  },
  "language_info": {
   "name": "python",
   "version": "3.10.0"
  },
  "orig_nbformat": 4,
  "vscode": {
   "interpreter": {
    "hash": "2469a70536e4d2335a2ea8907942d0699c37342a371ac185bdb5b0aa6f073890"
   }
  }
 },
 "nbformat": 4,
 "nbformat_minor": 2
}
