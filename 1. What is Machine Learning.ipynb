{
 "cells": [
  {
   "cell_type": "markdown",
   "metadata": {},
   "source": [
    "# Intro\n",
    "It all starts with A.I. or artificial intelligence which simply means a human intelligence exhibited by machines and A.I. is a machine that acts like a human.\n",
    "<br>\n",
    "<br>\n",
    "And currently in our industry we have something called Narrow A.I. that is machines can be just as good or even better than humans at specific tasks. But each A.I. is only good at one task. \n",
    "<br>\n",
    "<br>\n",
    "Machine Learning is a subset of A.I. and machine learning is an approach to try and achieve artificial intelligence through systems that can find patterns in a set of data.\n",
    "<br>\n",
    "<br>\n",
    "Machine learning is the science of getting computers to act without being explicitly programmed that is getting machines to do things without us specifically saying do this then do that, if this then that.\n",
    "<br>\n",
    "<br>\n",
    "Deep learning or Neural networks is just one of the techniques for implementing machine learning.\n"
   ]
  },
  {
   "cell_type": "markdown",
   "metadata": {},
   "source": [
    "# Steps for Full Machine Learning Project\n",
    "\n",
    "<img src=\"./Steps for full ml project.png\"/>"
   ]
  },
  {
   "cell_type": "markdown",
   "metadata": {},
   "source": [
    "A machine learning pipeline can be broken down into three major steps. Data collection, data modelling and deployment. All influence one another.\n",
    "\n",
    "You may start a project by collecting data, model it, realise the data you collected was poor, go back to collecting data, model it again, find a good model, deploy it, find it doesn’t work, make another model, deploy it, find it doesn’t work again, go back to data collection. It’s a cycle."
   ]
  },
  {
   "cell_type": "markdown",
   "metadata": {},
   "source": [
    "# Types of Machine Learning\n",
    "## Supervised\n",
    "In Supervised learning we are able to classify data as they are labeled. We draw a line what is true and what is false Or What is right and what is wrong.<br>\n",
    "For Example : \n",
    "<br>\n",
    "1. Think of a CSV file that contains user that like apple or Mango. So we can classify them.\n",
    "2. Predicting stock market, Hiring Employee on basis of experience etc.\n",
    "<br>\n",
    "Types of Supervised Learning :<br><br>\n",
    "Classification : It is about predicting a class or discrete values. Eg. Male or Female, True or False\n",
    "- Decision Tree Classification\n",
    "- Random Forest Classification\n",
    "- k-nearest neighbor\n",
    "<br>\n",
    "<br>\n",
    "Regression : It is about predicting quantity or continuous values. Eg. Salary, Age, Price<br>\n",
    "- Logistic Regression \n",
    "- Polynomial Regression\n",
    "- Support Vector Machines\n",
    "<br>\n",
    "\n",
    "## Unsupervised\n",
    "In Unsupervised learning we get data as groups. ML model has to decide what data points belongs to which group. There's isn't any category actually but our ML model create a imaginary category that this belongs to this and that belongs to that.\n",
    "<br>\n",
    "For Example : These people likes pizza, these likes burger and these likes both.<br>\n",
    "clustering - Putting groups of similar examples together\n",
    "\n",
    "## Reinforcement\n",
    "Area of Machine Learning concerned with how intelligent agent takes actions in an environment to maximize its rewards.<br>\n",
    "1. Environment\n",
    "2. Agent\n",
    "3. Action\n",
    "4. Reward\n"
   ]
  },
  {
   "cell_type": "markdown",
   "metadata": {},
   "source": [
    "<img src=\"./images/Types of ML.png\"/>"
   ]
  },
  {
   "cell_type": "markdown",
   "metadata": {},
   "source": [
    "# Difference between Machine Learning Algorithm or Model and Normal Algorithm\n",
    "In Normal Algorithm we have set of steps and we perform them to get our output whereas in ML Algorithm/model we have input , we have output and our model tries to find out the steps to get the output and do future prediction on the basis of that."
   ]
  },
  {
   "cell_type": "markdown",
   "metadata": {},
   "source": [
    "# Data Analysis VS Machine Learning VS Data Science\n",
    "Data analysis is looking at a set of data and gaining an understanding of it by comparing different examples different features and making visualizations like graphs for our example. This might be looking at different samples of ingredients and comparing them to all the ingredients have in common.\n",
    "<br>\n",
    "<br>\n",
    "Machine Learning is to create thousands of models from the data collected to get to prediction for future.\n",
    "<br>\n",
    "<br>\n",
    "Data science is running experiments on a set of data with the hopes of finding actionable insights within. Data Analysis and Machine Learning are parts of Data Science.\n"
   ]
  },
  {
   "cell_type": "markdown",
   "metadata": {},
   "source": [
    "# Where to get Data From\n",
    "1. Kaggle\n",
    "2. UCI ML Dataset\n",
    "3. Google Dataset Search"
   ]
  },
  {
   "cell_type": "markdown",
   "metadata": {},
   "source": [
    "# Importing dataset from Kaggle using API"
   ]
  },
  {
   "cell_type": "markdown",
   "metadata": {},
   "source": [
    "- Why to import dataset from API?\n",
    "<br>\n",
    "Sometimes dataset is so large we can not download it. So we use API to import the dataset.\n"
   ]
  },
  {
   "cell_type": "markdown",
   "metadata": {},
   "source": [
    "### Steps to import kaggle dataset in google colab\n",
    "- !pip install kaggle\n",
    "- !mkdir -p ~/.kaggle\n",
    "- !cp kaggle.json ~/.kaggle/\n",
    "- !chmod 600 ~/.kaggle/kaggle.json\n",
    "- copy api link and paste it with preceeding !"
   ]
  },
  {
   "cell_type": "markdown",
   "metadata": {},
   "source": [
    "### Extracting the compressed dataset in google colab\n",
    "from zipfile import ZipFile<br>\n",
    "dataset = '/content/train.csv.zip'<br>\n",
    "with ZipFile(dataset,'r') as zip:<br>\n",
    "&nbsp;&nbsp;&nbsp;&nbsp; zip.extractall()<br>\n",
    "&nbsp;&nbsp;&nbsp;&nbsp; print('The dataset is extracted')"
   ]
  },
  {
   "cell_type": "markdown",
   "metadata": {},
   "source": []
  }
 ],
 "metadata": {
  "kernelspec": {
   "display_name": "Python 3.10.0 64-bit",
   "language": "python",
   "name": "python3"
  },
  "language_info": {
   "name": "python",
   "version": "3.10.0"
  },
  "orig_nbformat": 4,
  "vscode": {
   "interpreter": {
    "hash": "2469a70536e4d2335a2ea8907942d0699c37342a371ac185bdb5b0aa6f073890"
   }
  }
 },
 "nbformat": 4,
 "nbformat_minor": 2
}
