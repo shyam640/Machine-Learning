{
 "cells": [
  {
   "attachments": {},
   "cell_type": "markdown",
   "metadata": {},
   "source": [
    "## Studying and developing the methods for collecting, analysing, interpreting and presenting data is called statistics."
   ]
  },
  {
   "attachments": {},
   "cell_type": "markdown",
   "metadata": {},
   "source": [
    "### Statistics Measures\n",
    "- Range\n",
    "- Mean\n",
    "- Standard Deviation"
   ]
  },
  {
   "attachments": {},
   "cell_type": "markdown",
   "metadata": {},
   "source": [
    "#### Why we need statistics?\n",
    "Statistics help up to retrieve information and knowledge from the given data."
   ]
  },
  {
   "attachments": {},
   "cell_type": "markdown",
   "metadata": {},
   "source": [
    "<img src='../images/types_of_data.png'/>"
   ]
  },
  {
   "attachments": {},
   "cell_type": "markdown",
   "metadata": {},
   "source": [
    "## What's Inside ?\n",
    "- Basics of Statistics\n",
    "- Types of Statistics (Descriptive->provide summaries about sample and Inferential->making prediction about large dataset)\n",
    "- Population and Sample\n",
    "- Central Tendencies -> (Mean,Median,Mode,Range,Standard Deviation,Variance)\n",
    "- Percentile & Dispersion\n",
    "- Range, Sample Variance and Standard Deviation\n",
    "- Correlation and Causation\n",
    "- Hypothesis testing"
   ]
  },
  {
   "cell_type": "code",
   "execution_count": null,
   "metadata": {},
   "outputs": [],
   "source": []
  }
 ],
 "metadata": {
  "kernelspec": {
   "display_name": "Python 3",
   "language": "python",
   "name": "python3"
  },
  "language_info": {
   "name": "python",
   "version": "3.10.0 (tags/v3.10.0:b494f59, Oct  4 2021, 19:00:18) [MSC v.1929 64 bit (AMD64)]"
  },
  "orig_nbformat": 4,
  "vscode": {
   "interpreter": {
    "hash": "2469a70536e4d2335a2ea8907942d0699c37342a371ac185bdb5b0aa6f073890"
   }
  }
 },
 "nbformat": 4,
 "nbformat_minor": 2
}
