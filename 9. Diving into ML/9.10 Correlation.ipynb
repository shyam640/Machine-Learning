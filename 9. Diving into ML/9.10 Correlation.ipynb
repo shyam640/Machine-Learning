{
 "cells": [
  {
   "attachments": {},
   "cell_type": "markdown",
   "metadata": {},
   "source": [
    "### Correlation is the relationship between variables of the dataset\n",
    "\n",
    "#### * Positive Correlation : If one variable increase with increase in second variable then it is called positive correlation.\n",
    "#### * Negative Correlation : If one variable increase with decrease in second variable then it is called negative correlation."
   ]
  },
  {
   "cell_type": "code",
   "execution_count": null,
   "metadata": {},
   "outputs": [],
   "source": []
  }
 ],
 "metadata": {
  "language_info": {
   "name": "python"
  },
  "orig_nbformat": 4
 },
 "nbformat": 4,
 "nbformat_minor": 2
}
