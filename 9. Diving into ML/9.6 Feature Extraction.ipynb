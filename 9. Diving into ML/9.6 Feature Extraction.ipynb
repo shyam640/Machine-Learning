{
 "cells": [
  {
   "cell_type": "markdown",
   "metadata": {},
   "source": [
    "# Feature Extraction\n",
    "The mapping from textual data to real valued vectors is called feature extraction.\n",
    "\n",
    "### Terminologies to remember\n",
    "- Bag Of Words (BOW) : List of unique words in the text corpus(collection of words)\n",
    "- Term Frequency-Inverse Document Frequency (TF-IDF) : Count the number of times each word appears in a document\n",
    "\n",
    "#### TF-IDF Vectorizer\n",
    "Term Frequency (TF) = (No. of times term t appears in a document) / (No. of terms in document)\n",
    "\n",
    "Inverse Document Frequency (IDF) = log(N/n)\n",
    "where N is number of documents and n is the number of documents a term t has appeared in\n",
    "\n",
    "**Note** : The IDF value of a rare word is high, whereas IDF of a frequent word is low.\n",
    "\n",
    "**TF-IDF = TF x IDF**"
   ]
  }
 ],
 "metadata": {
  "language_info": {
   "name": "python"
  },
  "orig_nbformat": 4
 },
 "nbformat": 4,
 "nbformat_minor": 2
}
